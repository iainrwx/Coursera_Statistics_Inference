{
 "cells": [
  {
   "cell_type": "code",
   "execution_count": 1,
   "metadata": {},
   "outputs": [
    {
     "data": {
      "text/html": [
       "'/Users/iain/miniconda3/envs/newr/lib/R/library'"
      ],
      "text/latex": [
       "'/Users/iain/miniconda3/envs/newr/lib/R/library'"
      ],
      "text/markdown": [
       "'/Users/iain/miniconda3/envs/newr/lib/R/library'"
      ],
      "text/plain": [
       "[1] \"/Users/iain/miniconda3/envs/newr/lib/R/library\""
      ]
     },
     "metadata": {},
     "output_type": "display_data"
    },
    {
     "data": {
      "text/plain": [
       "R version 3.4.3 (2017-11-30)\n",
       "Platform: x86_64-apple-darwin13.4.0 (64-bit)\n",
       "Running under: macOS Sierra 10.12.6\n",
       "\n",
       "Matrix products: default\n",
       "BLAS: /System/Library/Frameworks/Accelerate.framework/Versions/A/Frameworks/vecLib.framework/Versions/A/libBLAS.dylib\n",
       "LAPACK: /System/Library/Frameworks/Accelerate.framework/Versions/A/Frameworks/vecLib.framework/Versions/A/libLAPACK.dylib\n",
       "\n",
       "locale:\n",
       "[1] en_CA.UTF-8/en_CA.UTF-8/en_CA.UTF-8/C/en_CA.UTF-8/en_CA.UTF-8\n",
       "\n",
       "attached base packages:\n",
       "[1] stats     graphics  grDevices utils     datasets  methods   base     \n",
       "\n",
       "loaded via a namespace (and not attached):\n",
       " [1] compiler_3.4.3  magrittr_1.5    IRdisplay_0.4.4 pbdZMQ_0.3-0   \n",
       " [5] tools_3.4.3     crayon_1.3.4    uuid_0.1-2      stringi_1.1.6  \n",
       " [9] IRkernel_0.8.11 jsonlite_1.5    stringr_1.2.0   digest_0.6.13  \n",
       "[13] repr_0.12.0     evaluate_0.10.1"
      ]
     },
     "metadata": {},
     "output_type": "display_data"
    }
   ],
   "source": [
    ".libPaths()\n",
    "sessionInfo()\n"
   ]
  },
  {
   "cell_type": "markdown",
   "metadata": {},
   "source": [
    "##  week 1"
   ]
  },
  {
   "cell_type": "code",
   "execution_count": 2,
   "metadata": {},
   "outputs": [
    {
     "data": {
      "text/html": [
       "6.91992796908011"
      ],
      "text/latex": [
       "6.91992796908011"
      ],
      "text/markdown": [
       "6.91992796908011"
      ],
      "text/plain": [
       "[1] 6.919928"
      ]
     },
     "metadata": {},
     "output_type": "display_data"
    }
   ],
   "source": [
    "qnorm(.975,mean=3,sd=2)"
   ]
  },
  {
   "cell_type": "code",
   "execution_count": 2,
   "metadata": {},
   "outputs": [
    {
     "data": {
      "text/html": [
       "0.000159108590157534"
      ],
      "text/latex": [
       "0.000159108590157534"
      ],
      "text/markdown": [
       "0.000159108590157534"
      ],
      "text/plain": [
       "[1] 0.0001591086"
      ]
     },
     "metadata": {},
     "output_type": "display_data"
    }
   ],
   "source": [
    "pnorm(1200,mean=1020,sd=50,lower.tail=F)"
   ]
  },
  {
   "cell_type": "markdown",
   "metadata": {},
   "source": [
    "## quiz 1"
   ]
  },
  {
   "cell_type": "code",
   "execution_count": 3,
   "metadata": {},
   "outputs": [
    {
     "data": {
      "text/html": [
       "<table>\n",
       "<tbody>\n",
       "\t<tr><th scope=row>X</th><td>1.0</td><td>2.0</td><td>3.0</td><td>4.0</td></tr>\n",
       "\t<tr><th scope=row>Prob</th><td>0.1</td><td>0.2</td><td>0.3</td><td>0.4</td></tr>\n",
       "</tbody>\n",
       "</table>\n"
      ],
      "text/latex": [
       "\\begin{tabular}{r|llll}\n",
       "\tX & 1.0 & 2.0 & 3.0 & 4.0\\\\\n",
       "\tProb & 0.1 & 0.2 & 0.3 & 0.4\\\\\n",
       "\\end{tabular}\n"
      ],
      "text/markdown": [
       "\n",
       "| X | 1.0 | 2.0 | 3.0 | 4.0 | \n",
       "| Prob | 0.1 | 0.2 | 0.3 | 0.4 | \n",
       "\n",
       "\n"
      ],
      "text/plain": [
       "     [,1] [,2] [,3] [,4]\n",
       "X    1.0  2.0  3.0  4.0 \n",
       "Prob 0.1  0.2  0.3  0.4 "
      ]
     },
     "metadata": {},
     "output_type": "display_data"
    }
   ],
   "source": [
    "x <- 1:4\n",
    "p <- x/sum(x)\n",
    "temp <- rbind(x, p)\n",
    "rownames(temp) <- c(\"X\", \"Prob\")\n",
    "temp"
   ]
  },
  {
   "cell_type": "code",
   "execution_count": 12,
   "metadata": {},
   "outputs": [
    {
     "data": {
      "text/html": [
       "3"
      ],
      "text/latex": [
       "3"
      ],
      "text/markdown": [
       "3"
      ],
      "text/plain": [
       "[1] 3"
      ]
     },
     "metadata": {},
     "output_type": "display_data"
    },
    {
     "data": {
      "text/html": [
       "3"
      ],
      "text/latex": [
       "3"
      ],
      "text/markdown": [
       "3"
      ],
      "text/plain": [
       "[1] 3"
      ]
     },
     "metadata": {},
     "output_type": "display_data"
    }
   ],
   "source": [
    "weighted.mean(x,p)\n",
    "(1*.1) + (2*.2) + (3*.3) + (4*.4)"
   ]
  },
  {
   "cell_type": "markdown",
   "metadata": {},
   "source": [
    "## week 2"
   ]
  },
  {
   "cell_type": "code",
   "execution_count": 10,
   "metadata": {},
   "outputs": [
    {
     "data": {
      "text/html": [
       "3.6"
      ],
      "text/latex": [
       "3.6"
      ],
      "text/markdown": [
       "3.6"
      ],
      "text/plain": [
       "[1] 3.6"
      ]
     },
     "metadata": {},
     "output_type": "display_data"
    },
    {
     "data": {
      "text/html": [
       "0.000159108590157534"
      ],
      "text/latex": [
       "0.000159108590157534"
      ],
      "text/markdown": [
       "0.000159108590157534"
      ],
      "text/plain": [
       "[1] 0.0001591086"
      ]
     },
     "metadata": {},
     "output_type": "display_data"
    }
   ],
   "source": [
    "(z = (1200 - 1020) / 50)\n",
    "pnorm(3.6,lower.tail=F)"
   ]
  },
  {
   "cell_type": "code",
   "execution_count": 11,
   "metadata": {},
   "outputs": [
    {
     "data": {
      "text/html": [
       "1053.7244875098"
      ],
      "text/latex": [
       "1053.7244875098"
      ],
      "text/markdown": [
       "1053.7244875098"
      ],
      "text/plain": [
       "[1] 1053.724"
      ]
     },
     "metadata": {},
     "output_type": "display_data"
    }
   ],
   "source": [
    "qnorm(.75,mean=1020,sd=50)"
   ]
  },
  {
   "cell_type": "code",
   "execution_count": 14,
   "metadata": {},
   "outputs": [
    {
     "data": {
      "text/html": [
       "0.53"
      ],
      "text/latex": [
       "0.53"
      ],
      "text/markdown": [
       "0.53"
      ],
      "text/plain": [
       "[1] 0.53"
      ]
     },
     "metadata": {},
     "output_type": "display_data"
    },
    {
     "data": {
      "text/html": [
       "0.53"
      ],
      "text/latex": [
       "0.53"
      ],
      "text/markdown": [
       "0.53"
      ],
      "text/plain": [
       "[1] 0.53"
      ]
     },
     "metadata": {},
     "output_type": "display_data"
    }
   ],
   "source": [
    "pnorm(qnorm(.53)) ; qnorm(pnorm(.53))"
   ]
  },
  {
   "cell_type": "code",
   "execution_count": 15,
   "metadata": {},
   "outputs": [
    {
     "data": {
      "text/html": [
       "0.0103360506759257"
      ],
      "text/latex": [
       "0.0103360506759257"
      ],
      "text/markdown": [
       "0.0103360506759257"
      ],
      "text/plain": [
       "[1] 0.01033605"
      ]
     },
     "metadata": {},
     "output_type": "display_data"
    }
   ],
   "source": [
    "ppois(3,2.5*4)"
   ]
  },
  {
   "cell_type": "code",
   "execution_count": 2,
   "metadata": {},
   "outputs": [
    {
     "data": {
      "text/html": [
       "0.0661395116072519"
      ],
      "text/latex": [
       "0.0661395116072519"
      ],
      "text/markdown": [
       "0.0661395116072519"
      ],
      "text/plain": [
       "[1] 0.06613951"
      ]
     },
     "metadata": {},
     "output_type": "display_data"
    }
   ],
   "source": [
    "pbinom(5,1000,0.01); "
   ]
  },
  {
   "cell_type": "code",
   "execution_count": null,
   "metadata": {},
   "outputs": [],
   "source": [
    "qnorm(.95)"
   ]
  },
  {
   "cell_type": "code",
   "execution_count": 7,
   "metadata": {},
   "outputs": [
    {
     "data": {
      "text/html": [
       "<ol class=list-inline>\n",
       "\t<li>0.503981766472894</li>\n",
       "\t<li>0.696018233527106</li>\n",
       "</ol>\n"
      ],
      "text/latex": [
       "\\begin{enumerate*}\n",
       "\\item 0.503981766472894\n",
       "\\item 0.696018233527106\n",
       "\\end{enumerate*}\n"
      ],
      "text/markdown": [
       "1. 0.503981766472894\n",
       "2. 0.696018233527106\n",
       "\n",
       "\n"
      ],
      "text/plain": [
       "[1] 0.5039818 0.6960182"
      ]
     },
     "metadata": {},
     "output_type": "display_data"
    }
   ],
   "source": [
    "0.6 + c(-1,1) * qnorm(.975) * sqrt(.6 * .4 / 100)"
   ]
  },
  {
   "cell_type": "markdown",
   "metadata": {},
   "source": [
    "## quiz 2"
   ]
  },
  {
   "cell_type": "code",
   "execution_count": 5,
   "metadata": {},
   "outputs": [
    {
     "data": {
      "text/html": [
       "-1"
      ],
      "text/latex": [
       "-1"
      ],
      "text/markdown": [
       "-1"
      ],
      "text/plain": [
       "[1] -1"
      ]
     },
     "metadata": {},
     "output_type": "display_data"
    },
    {
     "data": {
      "text/html": [
       "0.158655253931457"
      ],
      "text/latex": [
       "0.158655253931457"
      ],
      "text/markdown": [
       "0.158655253931457"
      ],
      "text/plain": [
       "[1] 0.1586553"
      ]
     },
     "metadata": {},
     "output_type": "display_data"
    }
   ],
   "source": [
    "DBPmu = 80\n",
    "DBPsd = 10\n",
    "x = 70\n",
    "(z = (x - DBPmu) / DBPsd)\n",
    "pnorm(z,lower.tail=T)"
   ]
  },
  {
   "cell_type": "code",
   "execution_count": 7,
   "metadata": {},
   "outputs": [
    {
     "data": {
      "text/html": [
       "1223.36402202136"
      ],
      "text/latex": [
       "1223.36402202136"
      ],
      "text/markdown": [
       "1223.36402202136"
      ],
      "text/plain": [
       "[1] 1223.364"
      ]
     },
     "metadata": {},
     "output_type": "display_data"
    }
   ],
   "source": [
    "AWmu = 1100\n",
    "AWsd = 75\n",
    "qnorm(.95,mean=AWmu,sd=AWsd)"
   ]
  },
  {
   "cell_type": "code",
   "execution_count": 9,
   "metadata": {},
   "outputs": [
    {
     "data": {
      "text/html": [
       "1112.33640220214"
      ],
      "text/latex": [
       "1112.33640220214"
      ],
      "text/markdown": [
       "1112.33640220214"
      ],
      "text/plain": [
       "[1] 1112.336"
      ]
     },
     "metadata": {},
     "output_type": "display_data"
    }
   ],
   "source": [
    "AWn = 100\n",
    "AWse = AWsd / 100^0.5\n",
    "qnorm(.95,mean=AWmu,sd=AWse)"
   ]
  },
  {
   "cell_type": "code",
   "execution_count": 11,
   "metadata": {},
   "outputs": [
    {
     "data": {
      "text/html": [
       "0.03125"
      ],
      "text/latex": [
       "0.03125"
      ],
      "text/markdown": [
       "0.03125"
      ],
      "text/plain": [
       "[1] 0.03125"
      ]
     },
     "metadata": {},
     "output_type": "display_data"
    }
   ],
   "source": [
    "p = 0.5; trials = 5\n",
    "1 - pbinom(4,size=5,prob=p)"
   ]
  },
  {
   "cell_type": "code",
   "execution_count": 13,
   "metadata": {},
   "outputs": [
    {
     "data": {
      "text/html": [
       "0.129776909550554"
      ],
      "text/latex": [
       "0.129776909550554"
      ],
      "text/markdown": [
       "0.129776909550554"
      ],
      "text/plain": [
       "[1] 0.1297769"
      ]
     },
     "metadata": {},
     "output_type": "display_data"
    }
   ],
   "source": [
    "RDImu = 15 # sleep events per hour\n",
    "RDIsd = 10\n",
    "ppois(16,lambda=RDImu) - ppois(14,lambda=RDImu,lower.tail=F)"
   ]
  },
  {
   "cell_type": "code",
   "execution_count": 15,
   "metadata": {},
   "outputs": [
    {
     "data": {
      "text/html": [
       "8.33333333333333e-05"
      ],
      "text/latex": [
       "8.33333333333333e-05"
      ],
      "text/markdown": [
       "8.33333333333333e-05"
      ],
      "text/plain": [
       "[1] 8.333333e-05"
      ]
     },
     "metadata": {},
     "output_type": "display_data"
    }
   ],
   "source": [
    "(se = 1/12 / 1000)"
   ]
  },
  {
   "cell_type": "code",
   "execution_count": 17,
   "metadata": {},
   "outputs": [
    {
     "data": {
      "text/html": [
       "0.118464411529015"
      ],
      "text/latex": [
       "0.118464411529015"
      ],
      "text/markdown": [
       "0.118464411529015"
      ],
      "text/plain": [
       "[1] 0.1184644"
      ]
     },
     "metadata": {},
     "output_type": "display_data"
    }
   ],
   "source": [
    "mu = 5 # people per hour\n",
    "t = 3 # hours\n",
    "ppois(10,lambda=mu*t)"
   ]
  },
  {
   "cell_type": "markdown",
   "metadata": {},
   "source": [
    "## week 3"
   ]
  },
  {
   "cell_type": "code",
   "execution_count": 3,
   "metadata": {},
   "outputs": [
    {
     "data": {
      "text/html": [
       "<table>\n",
       "<thead><tr><th scope=col>extra</th><th scope=col>group</th><th scope=col>ID</th></tr></thead>\n",
       "<tbody>\n",
       "\t<tr><td> 0.7</td><td>1   </td><td>1   </td></tr>\n",
       "\t<tr><td>-1.6</td><td>1   </td><td>2   </td></tr>\n",
       "\t<tr><td>-0.2</td><td>1   </td><td>3   </td></tr>\n",
       "\t<tr><td>-1.2</td><td>1   </td><td>4   </td></tr>\n",
       "\t<tr><td>-0.1</td><td>1   </td><td>5   </td></tr>\n",
       "\t<tr><td> 3.4</td><td>1   </td><td>6   </td></tr>\n",
       "</tbody>\n",
       "</table>\n"
      ],
      "text/latex": [
       "\\begin{tabular}{r|lll}\n",
       " extra & group & ID\\\\\n",
       "\\hline\n",
       "\t  0.7 & 1    & 1   \\\\\n",
       "\t -1.6 & 1    & 2   \\\\\n",
       "\t -0.2 & 1    & 3   \\\\\n",
       "\t -1.2 & 1    & 4   \\\\\n",
       "\t -0.1 & 1    & 5   \\\\\n",
       "\t  3.4 & 1    & 6   \\\\\n",
       "\\end{tabular}\n"
      ],
      "text/markdown": [
       "\n",
       "extra | group | ID | \n",
       "|---|---|---|---|---|---|\n",
       "|  0.7 | 1    | 1    | \n",
       "| -1.6 | 1    | 2    | \n",
       "| -0.2 | 1    | 3    | \n",
       "| -1.2 | 1    | 4    | \n",
       "| -0.1 | 1    | 5    | \n",
       "|  3.4 | 1    | 6    | \n",
       "\n",
       "\n"
      ],
      "text/plain": [
       "  extra group ID\n",
       "1  0.7  1     1 \n",
       "2 -1.6  1     2 \n",
       "3 -0.2  1     3 \n",
       "4 -1.2  1     4 \n",
       "5 -0.1  1     5 \n",
       "6  3.4  1     6 "
      ]
     },
     "metadata": {},
     "output_type": "display_data"
    },
    {
     "name": "stdout",
     "output_type": "stream",
     "text": [
      "'data.frame':\t20 obs. of  3 variables:\n",
      " $ extra: num  0.7 -1.6 -0.2 -1.2 -0.1 3.4 3.7 0.8 0 2 ...\n",
      " $ group: Factor w/ 2 levels \"1\",\"2\": 1 1 1 1 1 1 1 1 1 1 ...\n",
      " $ ID   : Factor w/ 10 levels \"1\",\"2\",\"3\",\"4\",..: 1 2 3 4 5 6 7 8 9 10 ...\n"
     ]
    }
   ],
   "source": [
    "data(sleep); head(sleep); str(sleep)\n"
   ]
  },
  {
   "cell_type": "code",
   "execution_count": 2,
   "metadata": {},
   "outputs": [
    {
     "data": {
      "text/html": [
       "4.30265272974946"
      ],
      "text/latex": [
       "4.30265272974946"
      ],
      "text/markdown": [
       "4.30265272974946"
      ],
      "text/plain": [
       "[1] 4.302653"
      ]
     },
     "metadata": {},
     "output_type": "display_data"
    }
   ],
   "source": [
    "qt(.975,2)"
   ]
  },
  {
   "cell_type": "code",
   "execution_count": 32,
   "metadata": {},
   "outputs": [
    {
     "data": {
      "text/html": [
       "<ol class=list-inline>\n",
       "\t<li>-1.6</li>\n",
       "\t<li>3.7</li>\n",
       "</ol>\n"
      ],
      "text/latex": [
       "\\begin{enumerate*}\n",
       "\\item -1.6\n",
       "\\item 3.7\n",
       "\\end{enumerate*}\n"
      ],
      "text/markdown": [
       "1. -1.6\n",
       "2. 3.7\n",
       "\n",
       "\n"
      ],
      "text/plain": [
       "[1] -1.6  3.7"
      ]
     },
     "metadata": {},
     "output_type": "display_data"
    },
    {
     "data": {
      "text/html": [
       "<ol class=list-inline>\n",
       "\t<li>-0.1</li>\n",
       "\t<li>5.5</li>\n",
       "</ol>\n"
      ],
      "text/latex": [
       "\\begin{enumerate*}\n",
       "\\item -0.1\n",
       "\\item 5.5\n",
       "\\end{enumerate*}\n"
      ],
      "text/markdown": [
       "1. -0.1\n",
       "2. 5.5\n",
       "\n",
       "\n"
      ],
      "text/plain": [
       "[1] -0.1  5.5"
      ]
     },
     "metadata": {},
     "output_type": "display_data"
    },
    {
     "data": {
      "text/html": [
       "<ol class=list-inline>\n",
       "\t<li>1.2</li>\n",
       "\t<li>2.4</li>\n",
       "\t<li>1.3</li>\n",
       "\t<li>1.3</li>\n",
       "\t<li>0</li>\n",
       "\t<li>1</li>\n",
       "\t<li>1.8</li>\n",
       "\t<li>0.8</li>\n",
       "\t<li>4.6</li>\n",
       "\t<li>1.4</li>\n",
       "</ol>\n"
      ],
      "text/latex": [
       "\\begin{enumerate*}\n",
       "\\item 1.2\n",
       "\\item 2.4\n",
       "\\item 1.3\n",
       "\\item 1.3\n",
       "\\item 0\n",
       "\\item 1\n",
       "\\item 1.8\n",
       "\\item 0.8\n",
       "\\item 4.6\n",
       "\\item 1.4\n",
       "\\end{enumerate*}\n"
      ],
      "text/markdown": [
       "1. 1.2\n",
       "2. 2.4\n",
       "3. 1.3\n",
       "4. 1.3\n",
       "5. 0\n",
       "6. 1\n",
       "7. 1.8\n",
       "8. 0.8\n",
       "9. 4.6\n",
       "10. 1.4\n",
       "\n",
       "\n"
      ],
      "text/plain": [
       " [1] 1.2 2.4 1.3 1.3 0.0 1.0 1.8 0.8 4.6 1.4"
      ]
     },
     "metadata": {},
     "output_type": "display_data"
    },
    {
     "data": {
      "text/html": [
       "1.58"
      ],
      "text/latex": [
       "1.58"
      ],
      "text/markdown": [
       "1.58"
      ],
      "text/plain": [
       "[1] 1.58"
      ]
     },
     "metadata": {},
     "output_type": "display_data"
    },
    {
     "data": {
      "text/html": [
       "1.22999548327987"
      ],
      "text/latex": [
       "1.22999548327987"
      ],
      "text/markdown": [
       "1.22999548327987"
      ],
      "text/plain": [
       "[1] 1.229995"
      ]
     },
     "metadata": {},
     "output_type": "display_data"
    }
   ],
   "source": [
    "g1 <- sleep[sleep$group ==1,1] ; g2 <- sleep[sleep$group ==2,1]\n",
    "range(g1); range(g2)\n",
    "(difference <- g2-g1)\n",
    "(md <- mean(difference))\n",
    "(s <- sd(difference))"
   ]
  },
  {
   "cell_type": "code",
   "execution_count": 33,
   "metadata": {},
   "outputs": [
    {
     "data": {
      "text/html": [
       "<ol class=list-inline>\n",
       "\t<li>0.700114236723018</li>\n",
       "\t<li>2.45988576327698</li>\n",
       "</ol>\n"
      ],
      "text/latex": [
       "\\begin{enumerate*}\n",
       "\\item 0.700114236723018\n",
       "\\item 2.45988576327698\n",
       "\\end{enumerate*}\n"
      ],
      "text/markdown": [
       "1. 0.700114236723018\n",
       "2. 2.45988576327698\n",
       "\n",
       "\n"
      ],
      "text/plain": [
       "[1] 0.7001142 2.4598858"
      ]
     },
     "metadata": {},
     "output_type": "display_data"
    }
   ],
   "source": [
    "md + c(-1,1) * qt(.975,9) * s / sqrt(10)"
   ]
  },
  {
   "cell_type": "code",
   "execution_count": 17,
   "metadata": {},
   "outputs": [
    {
     "data": {
      "text/html": [
       "<ol class=list-inline>\n",
       "\t<li>0.700114236723018</li>\n",
       "\t<li>2.45988576327698</li>\n",
       "</ol>\n"
      ],
      "text/latex": [
       "\\begin{enumerate*}\n",
       "\\item 0.700114236723018\n",
       "\\item 2.45988576327698\n",
       "\\end{enumerate*}\n"
      ],
      "text/markdown": [
       "1. 0.700114236723018\n",
       "2. 2.45988576327698\n",
       "\n",
       "\n"
      ],
      "text/plain": [
       "[1] 0.7001142 2.4598858\n",
       "attr(,\"conf.level\")\n",
       "[1] 0.95"
      ]
     },
     "metadata": {},
     "output_type": "display_data"
    }
   ],
   "source": [
    "t.test(difference)$conf.int"
   ]
  },
  {
   "cell_type": "code",
   "execution_count": 41,
   "metadata": {},
   "outputs": [
    {
     "data": {
      "text/html": [
       "<ol class=list-inline>\n",
       "\t<li>-0.203874032287598</li>\n",
       "\t<li>3.3638740322876</li>\n",
       "</ol>\n"
      ],
      "text/latex": [
       "\\begin{enumerate*}\n",
       "\\item -0.203874032287598\n",
       "\\item 3.3638740322876\n",
       "\\end{enumerate*}\n"
      ],
      "text/markdown": [
       "1. -0.203874032287598\n",
       "2. 3.3638740322876\n",
       "\n",
       "\n"
      ],
      "text/plain": [
       "[1] -0.203874  3.363874"
      ]
     },
     "metadata": {},
     "output_type": "display_data"
    },
    {
     "data": {
      "text/html": [
       "<ol class=list-inline>\n",
       "\t<li>-0.203874032287599</li>\n",
       "\t<li>3.3638740322876</li>\n",
       "</ol>\n"
      ],
      "text/latex": [
       "\\begin{enumerate*}\n",
       "\\item -0.203874032287599\n",
       "\\item 3.3638740322876\n",
       "\\end{enumerate*}\n"
      ],
      "text/markdown": [
       "1. -0.203874032287599\n",
       "2. 3.3638740322876\n",
       "\n",
       "\n"
      ],
      "text/plain": [
       "[1] -0.203874  3.363874\n",
       "attr(,\"conf.level\")\n",
       "[1] 0.95"
      ]
     },
     "metadata": {},
     "output_type": "display_data"
    }
   ],
   "source": [
    "sp <- sqrt((9 * var(g1) + 9 * var(g2)) / 18)\n",
    "md + c(-1,1) * qt(.975,18) * sp * sqrt(1/10 + 1/10)\n",
    "t.test(g2,g1,paired=F,var.equal=T)$conf"
   ]
  },
  {
   "cell_type": "code",
   "execution_count": 42,
   "metadata": {},
   "outputs": [
    {
     "data": {
      "text/html": [
       "8293.8672"
      ],
      "text/latex": [
       "8293.8672"
      ],
      "text/markdown": [
       "8293.8672"
      ],
      "text/plain": [
       "[1] 8293.867"
      ]
     },
     "metadata": {},
     "output_type": "display_data"
    }
   ],
   "source": [
    "(sp <- 7 * 15.34^2 + 20 * 18.23^2)"
   ]
  },
  {
   "cell_type": "code",
   "execution_count": 43,
   "metadata": {},
   "outputs": [
    {
     "data": {
      "text/html": [
       "17.5265588940518"
      ],
      "text/latex": [
       "17.5265588940518"
      ],
      "text/markdown": [
       "17.5265588940518"
      ],
      "text/plain": [
       "[1] 17.52656"
      ]
     },
     "metadata": {},
     "output_type": "display_data"
    }
   ],
   "source": [
    "ns=27;\n",
    "(sp <- (sp / ns)^0.5)\n"
   ]
  },
  {
   "cell_type": "code",
   "execution_count": 44,
   "metadata": {},
   "outputs": [
    {
     "data": {
      "text/html": [
       "<ol class=list-inline>\n",
       "\t<li>-9.52109748379618</li>\n",
       "\t<li>20.3610974837962</li>\n",
       "</ol>\n"
      ],
      "text/latex": [
       "\\begin{enumerate*}\n",
       "\\item -9.52109748379618\n",
       "\\item 20.3610974837962\n",
       "\\end{enumerate*}\n"
      ],
      "text/markdown": [
       "1. -9.52109748379618\n",
       "2. 20.3610974837962\n",
       "\n",
       "\n"
      ],
      "text/plain": [
       "[1] -9.521097 20.361097"
      ]
     },
     "metadata": {},
     "output_type": "display_data"
    }
   ],
   "source": [
    "(132.86-127.44) + c(-1,1) * qt(.975,ns) * sp * sqrt(1/8 + 1/21)"
   ]
  },
  {
   "cell_type": "code",
   "execution_count": 3,
   "metadata": {},
   "outputs": [
    {
     "data": {
      "text/html": [
       "-1.64485362695147"
      ],
      "text/latex": [
       "-1.64485362695147"
      ],
      "text/markdown": [
       "-1.64485362695147"
      ],
      "text/plain": [
       "[1] -1.644854"
      ]
     },
     "metadata": {},
     "output_type": "display_data"
    }
   ],
   "source": [
    "qnorm(.05)"
   ]
  },
  {
   "cell_type": "code",
   "execution_count": 4,
   "metadata": {},
   "outputs": [
    {
     "data": {
      "text/html": [
       "2.13144954555978"
      ],
      "text/latex": [
       "2.13144954555978"
      ],
      "text/markdown": [
       "2.13144954555978"
      ],
      "text/plain": [
       "[1] 2.13145"
      ]
     },
     "metadata": {},
     "output_type": "display_data"
    },
    {
     "data": {
      "text/html": [
       "-2.13144954555978"
      ],
      "text/latex": [
       "-2.13144954555978"
      ],
      "text/markdown": [
       "-2.13144954555978"
      ],
      "text/plain": [
       "[1] -2.13145"
      ]
     },
     "metadata": {},
     "output_type": "display_data"
    }
   ],
   "source": [
    "qt(.975,15);qt(.025,15)"
   ]
  },
  {
   "cell_type": "markdown",
   "metadata": {},
   "source": [
    "## week4"
   ]
  },
  {
   "cell_type": "code",
   "execution_count": 3,
   "metadata": {},
   "outputs": [
    {
     "data": {
      "text/html": [
       "0.491485488675483"
      ],
      "text/latex": [
       "0.491485488675483"
      ],
      "text/markdown": [
       "0.491485488675483"
      ],
      "text/plain": [
       "[1] 0.4914855"
      ]
     },
     "metadata": {},
     "output_type": "display_data"
    }
   ],
   "source": [
    "power.t.test(power=.8,n=27,sd=1,type=\"one.sample\",alt=\"one.sided\")$delta"
   ]
  },
  {
   "cell_type": "code",
   "execution_count": 2,
   "metadata": {},
   "outputs": [
    {
     "data": {
      "text/html": [
       "0.982970977350966"
      ],
      "text/latex": [
       "0.982970977350966"
      ],
      "text/markdown": [
       "0.982970977350966"
      ],
      "text/plain": [
       "[1] 0.982971"
      ]
     },
     "metadata": {},
     "output_type": "display_data"
    }
   ],
   "source": [
    "power.t.test(power=.8,n=27,sd=2,type=\"one.sample\",alt=\"one.sided\")$delta"
   ]
  },
  {
   "cell_type": "code",
   "execution_count": null,
   "metadata": {},
   "outputs": [],
   "source": []
  }
 ],
 "metadata": {
  "kernelspec": {
   "display_name": "R",
   "language": "R",
   "name": "ir"
  },
  "language_info": {
   "codemirror_mode": "r",
   "file_extension": ".r",
   "mimetype": "text/x-r-source",
   "name": "R",
   "pygments_lexer": "r",
   "version": "3.4.3"
  }
 },
 "nbformat": 4,
 "nbformat_minor": 2
}
